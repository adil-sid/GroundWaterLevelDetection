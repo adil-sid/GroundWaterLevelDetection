{
 "cells": [
  {
   "cell_type": "code",
   "execution_count": 3,
   "id": "5b737c97",
   "metadata": {},
   "outputs": [],
   "source": [
    "import pandas as pd\n",
    "import numpy as np  \n",
    "import xarray as xr\n",
    "import glob\n",
    "import os"
   ]
  },
  {
   "cell_type": "markdown",
   "id": "8abb561e",
   "metadata": {},
   "source": [
    "Atmospheric_pressure_data"
   ]
  },
  {
   "cell_type": "code",
   "execution_count": 4,
   "id": "18f3d6ab",
   "metadata": {},
   "outputs": [
    {
     "name": "stdout",
     "output_type": "stream",
     "text": [
      "<xarray.Dataset> Size: 232kB\n",
      "Dimensions:     (valid_time: 744, latitude: 8, longitude: 9)\n",
      "Coordinates:\n",
      "    number      int64 8B ...\n",
      "  * valid_time  (valid_time) datetime64[ns] 6kB 2020-01-01 ... 2020-01-31T23:...\n",
      "  * latitude    (latitude) float64 64B 29.0 28.9 28.8 28.7 28.6 28.5 28.4 28.3\n",
      "  * longitude   (longitude) float64 72B 76.7 76.8 76.9 77.0 ... 77.3 77.4 77.5\n",
      "    expver      (valid_time) <U4 12kB ...\n",
      "Data variables:\n",
      "    sp          (valid_time, latitude, longitude) float32 214kB ...\n",
      "Attributes:\n",
      "    GRIB_centre:             ecmf\n",
      "    GRIB_centreDescription:  European Centre for Medium-Range Weather Forecasts\n",
      "    GRIB_subCentre:          0\n",
      "    Conventions:             CF-1.7\n",
      "    institution:             European Centre for Medium-Range Weather Forecasts\n",
      "    history:                 2025-09-13T17:03 GRIB to CDM+CF via cfgrib-0.9.1...\n"
     ]
    }
   ],
   "source": [
    "ds = xr.open_dataset(r\"D:\\GWL Detection\\GroundWaterLevelDetection\\data\\Copernicus_AtmosphericPressure\\Delhi_surface_pressure202001.nc\")\n",
    "\n",
    "# check variables\n",
    "print(ds)"
   ]
  }
 ],
 "metadata": {
  "kernelspec": {
   "display_name": "Python 3",
   "language": "python",
   "name": "python3"
  },
  "language_info": {
   "codemirror_mode": {
    "name": "ipython",
    "version": 3
   },
   "file_extension": ".py",
   "mimetype": "text/x-python",
   "name": "python",
   "nbconvert_exporter": "python",
   "pygments_lexer": "ipython3",
   "version": "3.10.11"
  }
 },
 "nbformat": 4,
 "nbformat_minor": 5
}
